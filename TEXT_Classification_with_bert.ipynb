{
  "nbformat": 4,
  "nbformat_minor": 0,
  "metadata": {
    "colab": {
      "provenance": [],
      "gpuType": "T4"
    },
    "kernelspec": {
      "name": "python3",
      "display_name": "Python 3"
    },
    "language_info": {
      "name": "python"
    },
    "accelerator": "GPU"
  },
  "cells": [
    {
      "cell_type": "code",
      "execution_count": 63,
      "metadata": {
        "colab": {
          "base_uri": "https://localhost:8080/"
        },
        "id": "J_wcYc-vRBrC",
        "outputId": "0eaeec3a-2ec8-4209-cbfc-d22d79cae0d2"
      },
      "outputs": [
        {
          "output_type": "stream",
          "name": "stdout",
          "text": [
            "Skipping, found downloaded files in \"./news-headlines-dataset-for-sarcasm-detection\" (use force=True to force download)\n"
          ]
        }
      ],
      "source": [
        "!pip install transformers --quiet #Hugging Face library → gives us pre-trained NLP models (like BERT, DistilBERT).\n",
        "!pip install opendatasets --quiet\n",
        "import opendatasets as od\n",
        "od.download(\"https://www.kaggle.com/datasets/rmisra/news-headlines-dataset-for-sarcasm-detection\")"
      ]
    },
    {
      "cell_type": "code",
      "source": [
        "import torch\n",
        "import torch.nn as nn\n",
        "from torch.optim import Adam\n",
        "from transformers import AutoTokenizer, AutoModel #load tokenizer & pre-trained model.\n",
        "from torch.utils.data import Dataset, DataLoader\n",
        "from sklearn.model_selection import train_test_split\n",
        "from sklearn.metrics import accuracy_score\n",
        "import matplotlib.pyplot as plt\n",
        "import pandas as pd\n",
        "import numpy as np\n"
      ],
      "metadata": {
        "id": "c9fTqI35WkhK"
      },
      "execution_count": 64,
      "outputs": []
    },
    {
      "cell_type": "code",
      "source": [
        "device = 'cuda' if torch.cuda.is_available() else 'cpu'\n",
        "\n",
        "print(\"Available Device is: \", device)"
      ],
      "metadata": {
        "colab": {
          "base_uri": "https://localhost:8080/"
        },
        "id": "md190-TuXRi5",
        "outputId": "d7baeb7e-1dbd-4fbc-c965-7f4dbf0ba1ed"
      },
      "execution_count": 65,
      "outputs": [
        {
          "output_type": "stream",
          "name": "stdout",
          "text": [
            "Available Device is:  cuda\n"
          ]
        }
      ]
    },
    {
      "cell_type": "code",
      "source": [
        "data_df = pd.read_json(\"/content/news-headlines-dataset-for-sarcasm-detection/Sarcasm_Headlines_Dataset.json\", lines=True)\n",
        "data_df.dropna(inplace=True)\n",
        "print(data_df.shape)\n",
        "data_df.head()"
      ],
      "metadata": {
        "colab": {
          "base_uri": "https://localhost:8080/",
          "height": 224
        },
        "id": "RZABvvKLcnVa",
        "outputId": "9ee5879f-54d5-446c-cfad-980a73155448"
      },
      "execution_count": 66,
      "outputs": [
        {
          "output_type": "stream",
          "name": "stdout",
          "text": [
            "(26709, 3)\n"
          ]
        },
        {
          "output_type": "execute_result",
          "data": {
            "text/plain": [
              "                                        article_link  \\\n",
              "0  https://www.huffingtonpost.com/entry/versace-b...   \n",
              "1  https://www.huffingtonpost.com/entry/roseanne-...   \n",
              "2  https://local.theonion.com/mom-starting-to-fea...   \n",
              "3  https://politics.theonion.com/boehner-just-wan...   \n",
              "4  https://www.huffingtonpost.com/entry/jk-rowlin...   \n",
              "\n",
              "                                            headline  is_sarcastic  \n",
              "0  former versace store clerk sues over secret 'b...             0  \n",
              "1  the 'roseanne' revival catches up to our thorn...             0  \n",
              "2  mom starting to fear son's web series closest ...             1  \n",
              "3  boehner just wants wife to listen, not come up...             1  \n",
              "4  j.k. rowling wishes snape happy birthday in th...             0  "
            ],
            "text/html": [
              "\n",
              "  <div id=\"df-4b315b2d-3af7-494c-8bc3-49012933693d\" class=\"colab-df-container\">\n",
              "    <div>\n",
              "<style scoped>\n",
              "    .dataframe tbody tr th:only-of-type {\n",
              "        vertical-align: middle;\n",
              "    }\n",
              "\n",
              "    .dataframe tbody tr th {\n",
              "        vertical-align: top;\n",
              "    }\n",
              "\n",
              "    .dataframe thead th {\n",
              "        text-align: right;\n",
              "    }\n",
              "</style>\n",
              "<table border=\"1\" class=\"dataframe\">\n",
              "  <thead>\n",
              "    <tr style=\"text-align: right;\">\n",
              "      <th></th>\n",
              "      <th>article_link</th>\n",
              "      <th>headline</th>\n",
              "      <th>is_sarcastic</th>\n",
              "    </tr>\n",
              "  </thead>\n",
              "  <tbody>\n",
              "    <tr>\n",
              "      <th>0</th>\n",
              "      <td>https://www.huffingtonpost.com/entry/versace-b...</td>\n",
              "      <td>former versace store clerk sues over secret 'b...</td>\n",
              "      <td>0</td>\n",
              "    </tr>\n",
              "    <tr>\n",
              "      <th>1</th>\n",
              "      <td>https://www.huffingtonpost.com/entry/roseanne-...</td>\n",
              "      <td>the 'roseanne' revival catches up to our thorn...</td>\n",
              "      <td>0</td>\n",
              "    </tr>\n",
              "    <tr>\n",
              "      <th>2</th>\n",
              "      <td>https://local.theonion.com/mom-starting-to-fea...</td>\n",
              "      <td>mom starting to fear son's web series closest ...</td>\n",
              "      <td>1</td>\n",
              "    </tr>\n",
              "    <tr>\n",
              "      <th>3</th>\n",
              "      <td>https://politics.theonion.com/boehner-just-wan...</td>\n",
              "      <td>boehner just wants wife to listen, not come up...</td>\n",
              "      <td>1</td>\n",
              "    </tr>\n",
              "    <tr>\n",
              "      <th>4</th>\n",
              "      <td>https://www.huffingtonpost.com/entry/jk-rowlin...</td>\n",
              "      <td>j.k. rowling wishes snape happy birthday in th...</td>\n",
              "      <td>0</td>\n",
              "    </tr>\n",
              "  </tbody>\n",
              "</table>\n",
              "</div>\n",
              "    <div class=\"colab-df-buttons\">\n",
              "\n",
              "  <div class=\"colab-df-container\">\n",
              "    <button class=\"colab-df-convert\" onclick=\"convertToInteractive('df-4b315b2d-3af7-494c-8bc3-49012933693d')\"\n",
              "            title=\"Convert this dataframe to an interactive table.\"\n",
              "            style=\"display:none;\">\n",
              "\n",
              "  <svg xmlns=\"http://www.w3.org/2000/svg\" height=\"24px\" viewBox=\"0 -960 960 960\">\n",
              "    <path d=\"M120-120v-720h720v720H120Zm60-500h600v-160H180v160Zm220 220h160v-160H400v160Zm0 220h160v-160H400v160ZM180-400h160v-160H180v160Zm440 0h160v-160H620v160ZM180-180h160v-160H180v160Zm440 0h160v-160H620v160Z\"/>\n",
              "  </svg>\n",
              "    </button>\n",
              "\n",
              "  <style>\n",
              "    .colab-df-container {\n",
              "      display:flex;\n",
              "      gap: 12px;\n",
              "    }\n",
              "\n",
              "    .colab-df-convert {\n",
              "      background-color: #E8F0FE;\n",
              "      border: none;\n",
              "      border-radius: 50%;\n",
              "      cursor: pointer;\n",
              "      display: none;\n",
              "      fill: #1967D2;\n",
              "      height: 32px;\n",
              "      padding: 0 0 0 0;\n",
              "      width: 32px;\n",
              "    }\n",
              "\n",
              "    .colab-df-convert:hover {\n",
              "      background-color: #E2EBFA;\n",
              "      box-shadow: 0px 1px 2px rgba(60, 64, 67, 0.3), 0px 1px 3px 1px rgba(60, 64, 67, 0.15);\n",
              "      fill: #174EA6;\n",
              "    }\n",
              "\n",
              "    .colab-df-buttons div {\n",
              "      margin-bottom: 4px;\n",
              "    }\n",
              "\n",
              "    [theme=dark] .colab-df-convert {\n",
              "      background-color: #3B4455;\n",
              "      fill: #D2E3FC;\n",
              "    }\n",
              "\n",
              "    [theme=dark] .colab-df-convert:hover {\n",
              "      background-color: #434B5C;\n",
              "      box-shadow: 0px 1px 3px 1px rgba(0, 0, 0, 0.15);\n",
              "      filter: drop-shadow(0px 1px 2px rgba(0, 0, 0, 0.3));\n",
              "      fill: #FFFFFF;\n",
              "    }\n",
              "  </style>\n",
              "\n",
              "    <script>\n",
              "      const buttonEl =\n",
              "        document.querySelector('#df-4b315b2d-3af7-494c-8bc3-49012933693d button.colab-df-convert');\n",
              "      buttonEl.style.display =\n",
              "        google.colab.kernel.accessAllowed ? 'block' : 'none';\n",
              "\n",
              "      async function convertToInteractive(key) {\n",
              "        const element = document.querySelector('#df-4b315b2d-3af7-494c-8bc3-49012933693d');\n",
              "        const dataTable =\n",
              "          await google.colab.kernel.invokeFunction('convertToInteractive',\n",
              "                                                    [key], {});\n",
              "        if (!dataTable) return;\n",
              "\n",
              "        const docLinkHtml = 'Like what you see? Visit the ' +\n",
              "          '<a target=\"_blank\" href=https://colab.research.google.com/notebooks/data_table.ipynb>data table notebook</a>'\n",
              "          + ' to learn more about interactive tables.';\n",
              "        element.innerHTML = '';\n",
              "        dataTable['output_type'] = 'display_data';\n",
              "        await google.colab.output.renderOutput(dataTable, element);\n",
              "        const docLink = document.createElement('div');\n",
              "        docLink.innerHTML = docLinkHtml;\n",
              "        element.appendChild(docLink);\n",
              "      }\n",
              "    </script>\n",
              "  </div>\n",
              "\n",
              "\n",
              "    <div id=\"df-2632995c-1c0a-4138-9d25-f91576f8553a\">\n",
              "      <button class=\"colab-df-quickchart\" onclick=\"quickchart('df-2632995c-1c0a-4138-9d25-f91576f8553a')\"\n",
              "                title=\"Suggest charts\"\n",
              "                style=\"display:none;\">\n",
              "\n",
              "<svg xmlns=\"http://www.w3.org/2000/svg\" height=\"24px\"viewBox=\"0 0 24 24\"\n",
              "     width=\"24px\">\n",
              "    <g>\n",
              "        <path d=\"M19 3H5c-1.1 0-2 .9-2 2v14c0 1.1.9 2 2 2h14c1.1 0 2-.9 2-2V5c0-1.1-.9-2-2-2zM9 17H7v-7h2v7zm4 0h-2V7h2v10zm4 0h-2v-4h2v4z\"/>\n",
              "    </g>\n",
              "</svg>\n",
              "      </button>\n",
              "\n",
              "<style>\n",
              "  .colab-df-quickchart {\n",
              "      --bg-color: #E8F0FE;\n",
              "      --fill-color: #1967D2;\n",
              "      --hover-bg-color: #E2EBFA;\n",
              "      --hover-fill-color: #174EA6;\n",
              "      --disabled-fill-color: #AAA;\n",
              "      --disabled-bg-color: #DDD;\n",
              "  }\n",
              "\n",
              "  [theme=dark] .colab-df-quickchart {\n",
              "      --bg-color: #3B4455;\n",
              "      --fill-color: #D2E3FC;\n",
              "      --hover-bg-color: #434B5C;\n",
              "      --hover-fill-color: #FFFFFF;\n",
              "      --disabled-bg-color: #3B4455;\n",
              "      --disabled-fill-color: #666;\n",
              "  }\n",
              "\n",
              "  .colab-df-quickchart {\n",
              "    background-color: var(--bg-color);\n",
              "    border: none;\n",
              "    border-radius: 50%;\n",
              "    cursor: pointer;\n",
              "    display: none;\n",
              "    fill: var(--fill-color);\n",
              "    height: 32px;\n",
              "    padding: 0;\n",
              "    width: 32px;\n",
              "  }\n",
              "\n",
              "  .colab-df-quickchart:hover {\n",
              "    background-color: var(--hover-bg-color);\n",
              "    box-shadow: 0 1px 2px rgba(60, 64, 67, 0.3), 0 1px 3px 1px rgba(60, 64, 67, 0.15);\n",
              "    fill: var(--button-hover-fill-color);\n",
              "  }\n",
              "\n",
              "  .colab-df-quickchart-complete:disabled,\n",
              "  .colab-df-quickchart-complete:disabled:hover {\n",
              "    background-color: var(--disabled-bg-color);\n",
              "    fill: var(--disabled-fill-color);\n",
              "    box-shadow: none;\n",
              "  }\n",
              "\n",
              "  .colab-df-spinner {\n",
              "    border: 2px solid var(--fill-color);\n",
              "    border-color: transparent;\n",
              "    border-bottom-color: var(--fill-color);\n",
              "    animation:\n",
              "      spin 1s steps(1) infinite;\n",
              "  }\n",
              "\n",
              "  @keyframes spin {\n",
              "    0% {\n",
              "      border-color: transparent;\n",
              "      border-bottom-color: var(--fill-color);\n",
              "      border-left-color: var(--fill-color);\n",
              "    }\n",
              "    20% {\n",
              "      border-color: transparent;\n",
              "      border-left-color: var(--fill-color);\n",
              "      border-top-color: var(--fill-color);\n",
              "    }\n",
              "    30% {\n",
              "      border-color: transparent;\n",
              "      border-left-color: var(--fill-color);\n",
              "      border-top-color: var(--fill-color);\n",
              "      border-right-color: var(--fill-color);\n",
              "    }\n",
              "    40% {\n",
              "      border-color: transparent;\n",
              "      border-right-color: var(--fill-color);\n",
              "      border-top-color: var(--fill-color);\n",
              "    }\n",
              "    60% {\n",
              "      border-color: transparent;\n",
              "      border-right-color: var(--fill-color);\n",
              "    }\n",
              "    80% {\n",
              "      border-color: transparent;\n",
              "      border-right-color: var(--fill-color);\n",
              "      border-bottom-color: var(--fill-color);\n",
              "    }\n",
              "    90% {\n",
              "      border-color: transparent;\n",
              "      border-bottom-color: var(--fill-color);\n",
              "    }\n",
              "  }\n",
              "</style>\n",
              "\n",
              "      <script>\n",
              "        async function quickchart(key) {\n",
              "          const quickchartButtonEl =\n",
              "            document.querySelector('#' + key + ' button');\n",
              "          quickchartButtonEl.disabled = true;  // To prevent multiple clicks.\n",
              "          quickchartButtonEl.classList.add('colab-df-spinner');\n",
              "          try {\n",
              "            const charts = await google.colab.kernel.invokeFunction(\n",
              "                'suggestCharts', [key], {});\n",
              "          } catch (error) {\n",
              "            console.error('Error during call to suggestCharts:', error);\n",
              "          }\n",
              "          quickchartButtonEl.classList.remove('colab-df-spinner');\n",
              "          quickchartButtonEl.classList.add('colab-df-quickchart-complete');\n",
              "        }\n",
              "        (() => {\n",
              "          let quickchartButtonEl =\n",
              "            document.querySelector('#df-2632995c-1c0a-4138-9d25-f91576f8553a button');\n",
              "          quickchartButtonEl.style.display =\n",
              "            google.colab.kernel.accessAllowed ? 'block' : 'none';\n",
              "        })();\n",
              "      </script>\n",
              "    </div>\n",
              "\n",
              "    </div>\n",
              "  </div>\n"
            ],
            "application/vnd.google.colaboratory.intrinsic+json": {
              "type": "dataframe",
              "variable_name": "data_df",
              "summary": "{\n  \"name\": \"data_df\",\n  \"rows\": 26709,\n  \"fields\": [\n    {\n      \"column\": \"article_link\",\n      \"properties\": {\n        \"dtype\": \"string\",\n        \"num_unique_values\": 26708,\n        \"samples\": [\n          \"https://www.theonion.com/isis-recruiter-excited-to-be-talking-to-popular-high-sc-1819579508\",\n          \"https://www.huffingtonpost.com/entry/jimmy-fallon-could-barely-keep-it-together-during-this-cardi-b-interview_us_5a3c01aae4b06d1621b2de98\",\n          \"https://www.huffingtonpost.com/entry/4-ways-to-support-farmtos_b_5906452.html\"\n        ],\n        \"semantic_type\": \"\",\n        \"description\": \"\"\n      }\n    },\n    {\n      \"column\": \"headline\",\n      \"properties\": {\n        \"dtype\": \"string\",\n        \"num_unique_values\": 26602,\n        \"samples\": [\n          \"departing employee not quite important enough for send-off\",\n          \"college student still managing to look like asshole in picture of village he helped build\",\n          \"fun sticker placed on child's ventilator\"\n        ],\n        \"semantic_type\": \"\",\n        \"description\": \"\"\n      }\n    },\n    {\n      \"column\": \"is_sarcastic\",\n      \"properties\": {\n        \"dtype\": \"number\",\n        \"std\": 0,\n        \"min\": 0,\n        \"max\": 1,\n        \"num_unique_values\": 2,\n        \"samples\": [\n          1,\n          0\n        ],\n        \"semantic_type\": \"\",\n        \"description\": \"\"\n      }\n    }\n  ]\n}"
            }
          },
          "metadata": {},
          "execution_count": 66
        }
      ]
    },
    {
      "cell_type": "code",
      "source": [
        "data_df = pd.read_json(\"/content/news-headlines-dataset-for-sarcasm-detection/Sarcasm_Headlines_Dataset.json\", lines=True)\n",
        "data_df.dropna(inplace=True)\n",
        "print(f\"Dataset shape: {data_df.shape}\")\n",
        "print(f\"Class distribution:\\n{data_df['is_sarcastic'].value_counts()}\")"
      ],
      "metadata": {
        "colab": {
          "base_uri": "https://localhost:8080/"
        },
        "id": "uRUnbKmakijr",
        "outputId": "10f78217-593e-4cc5-eb45-0d3ec8032b01"
      },
      "execution_count": 67,
      "outputs": [
        {
          "output_type": "stream",
          "name": "stdout",
          "text": [
            "Dataset shape: (26709, 3)\n",
            "Class distribution:\n",
            "is_sarcastic\n",
            "0    14985\n",
            "1    11724\n",
            "Name: count, dtype: int64\n"
          ]
        }
      ]
    },
    {
      "cell_type": "code",
      "source": [
        "X_train, X_test, y_train, y_test = train_test_split(np.array(data_df[\"headline\"]), np.array(data_df[\"is_sarcastic\"]), test_size=0.3)\n",
        "X_val, X_test, y_val, y_test = train_test_split(X_test, y_test, test_size=0.5)"
      ],
      "metadata": {
        "id": "uAQsKlIjgtC6"
      },
      "execution_count": 68,
      "outputs": []
    },
    {
      "cell_type": "code",
      "source": [
        "# Check class distribution and calculate weights\n",
        "print(f\"Training class distribution: {np.bincount(y_train)}\")\n",
        "from sklearn.utils.class_weight import compute_class_weight\n",
        "class_weights = compute_class_weight('balanced', classes=np.unique(y_train), y=y_train)\n",
        "print(f\"Class weights: {class_weights}\")"
      ],
      "metadata": {
        "colab": {
          "base_uri": "https://localhost:8080/"
        },
        "id": "DZb3NlA7ufTN",
        "outputId": "2846f59d-276f-4908-d165-2b0a9229aeb5"
      },
      "execution_count": 69,
      "outputs": [
        {
          "output_type": "stream",
          "name": "stdout",
          "text": [
            "Training class distribution: [10469  8227]\n",
            "Class weights: [0.89292196 1.13625866]\n"
          ]
        }
      ]
    },
    {
      "cell_type": "code",
      "source": [
        "print(\"Training set is: \", X_train.shape[0], \" rows which is \", round(X_train.shape[0]/data_df.shape[0],4)*100, \"%\")\n",
        "print(\"Validation set is: \",X_val.shape[0], \" rows which is \", round(X_val.shape[0]/data_df.shape[0],4)*100, \"%\")\n",
        "print(\"Testing set is: \",X_test.shape[0], \" rows which is \", round(X_test.shape[0]/data_df.shape[0],4)*100, \"%\")"
      ],
      "metadata": {
        "colab": {
          "base_uri": "https://localhost:8080/"
        },
        "id": "9hSwCwFBhR0B",
        "outputId": "34b1be7c-01b4-41b9-d08e-51df8ba075e9"
      },
      "execution_count": 70,
      "outputs": [
        {
          "output_type": "stream",
          "name": "stdout",
          "text": [
            "Training set is:  18696  rows which is  70.0 %\n",
            "Validation set is:  4006  rows which is  15.0 %\n",
            "Testing set is:  4007  rows which is  15.0 %\n"
          ]
        }
      ]
    },
    {
      "cell_type": "code",
      "source": [
        "#Loads BERT’s tokenizer (turns text → token IDs) and the pre-trained BERT model weights.\n",
        "tokenizer = AutoTokenizer.from_pretrained(\"bert-base-uncased\")\n",
        "bert_model = AutoModel.from_pretrained(\"bert-base-uncased\")"
      ],
      "metadata": {
        "id": "qq8jarYth-IY"
      },
      "execution_count": 71,
      "outputs": []
    },
    {
      "cell_type": "code",
      "source": [
        "class SarcasmDataset(Dataset):\n",
        "    def __init__(self, texts, labels, tokenizer, max_length=64):\n",
        "        self.texts = texts\n",
        "        self.labels = labels\n",
        "        self.tokenizer = tokenizer\n",
        "        self.max_length = max_length\n",
        "\n",
        "    def __len__(self):\n",
        "        return len(self.texts)\n",
        "\n",
        "    def __getitem__(self, index):\n",
        "        text = str(self.texts[index])\n",
        "        label = self.labels[index]\n",
        "\n",
        "        encoding = self.tokenizer(\n",
        "            text,\n",
        "            max_length=self.max_length,\n",
        "            truncation=True,\n",
        "            padding='max_length',\n",
        "            return_tensors='pt'\n",
        "        )\n",
        "\n",
        "        return {\n",
        "            'input_ids': encoding['input_ids'].squeeze(0),\n",
        "            'attention_mask': encoding['attention_mask'].squeeze(0),\n",
        "            'label': torch.tensor(label, dtype=torch.float32)\n",
        "        }\n",
        "\n",
        "# Create datasets\n",
        "training_data = SarcasmDataset(X_train, y_train, tokenizer)\n",
        "validation_data = SarcasmDataset(X_val, y_val, tokenizer)\n",
        "testing_data = SarcasmDataset(X_test, y_test, tokenizer)"
      ],
      "metadata": {
        "id": "y4HpAGApmsqi"
      },
      "execution_count": 72,
      "outputs": []
    },
    {
      "cell_type": "code",
      "source": [
        "BATCH_SIZE = 32\n",
        "EPOCHS = 20\n",
        "LR = 2e-5\n",
        "MAX_GRAD_NORM = 1.0\n",
        "PATIENCE = 3"
      ],
      "metadata": {
        "id": "wFXN6iDZnA0J"
      },
      "execution_count": 73,
      "outputs": []
    },
    {
      "cell_type": "code",
      "source": [
        "def augment_sarcastic_data(X_train, y_train):\n",
        "    sarcastic_indices = np.where(y_train == 1)[0]\n",
        "    # Add variations with different intensifiers\n",
        "    augmented_texts = []\n",
        "    augmented_labels = []\n",
        "\n",
        "    for idx in sarcastic_indices[:100]:  # Take first 100 sarcastic examples\n",
        "        original_text = X_train[idx]\n",
        "        # Simple augmentation - add intensifiers\n",
        "        if \"great\" in original_text.lower():\n",
        "            augmented_texts.append(original_text.replace(\"great\", \"absolutely fantastic\"))\n",
        "            augmented_labels.append(1)\n",
        "\n",
        "    return np.concatenate([X_train, augmented_texts]), np.concatenate([y_train, augmented_labels])\n",
        "\n",
        "# Apply augmentation\n",
        "X_train_aug, y_train_aug = augment_sarcastic_data(X_train, y_train)\n",
        "training_data = SarcasmDataset(X_train_aug, y_train_aug, tokenizer)"
      ],
      "metadata": {
        "id": "Zt9YLRmx6cKN"
      },
      "execution_count": 74,
      "outputs": []
    },
    {
      "cell_type": "code",
      "source": [
        "train_dataloader = DataLoader(training_data, batch_size=BATCH_SIZE, shuffle= True)\n",
        "validation_dataloader = DataLoader(validation_data, batch_size=BATCH_SIZE, shuffle= True)\n",
        "testing_dataloader = DataLoader(testing_data, batch_size=BATCH_SIZE, shuffle= True)"
      ],
      "metadata": {
        "id": "cRcIkONQnBdO"
      },
      "execution_count": 75,
      "outputs": []
    },
    {
      "cell_type": "code",
      "source": [
        "class MyModel(nn.Module):\n",
        "    def __init__(self, bert_model, dropout_rate=0.3):\n",
        "        super(MyModel, self).__init__()\n",
        "        self.bert = bert_model\n",
        "        self.dropout1 = nn.Dropout(dropout_rate)\n",
        "        self.bn1 = nn.BatchNorm1d(768)\n",
        "        self.linear1 = nn.Linear(768, 384)\n",
        "        self.relu = nn.ReLU()\n",
        "        self.dropout2 = nn.Dropout(dropout_rate)\n",
        "        self.bn2 = nn.BatchNorm1d(384)\n",
        "        self.linear2 = nn.Linear(384, 128)\n",
        "        self.dropout3 = nn.Dropout(dropout_rate)\n",
        "        self.linear3 = nn.Linear(128, 1)\n",
        "        self.sigmoid = nn.Sigmoid()\n",
        "\n",
        "    def forward(self, input_ids, attention_mask):\n",
        "        # Get BERT output\n",
        "        bert_output = self.bert(input_ids=input_ids, attention_mask=attention_mask)\n",
        "\n",
        "        # Use CLS token representation\n",
        "        pooled_output = bert_output.last_hidden_state[:, 0]  # CLS token\n",
        "\n",
        "        # Pass through classifier layers\n",
        "        x = self.dropout1(pooled_output)\n",
        "        x = self.bn1(x)\n",
        "        x = self.relu(self.linear1(x))\n",
        "        x = self.dropout2(x)\n",
        "        x = self.bn2(x)\n",
        "        x = self.relu(self.linear2(x))\n",
        "        x = self.dropout3(x)\n",
        "        x = self.linear3(x)\n",
        "\n",
        "        return x.squeeze()\n"
      ],
      "metadata": {
        "id": "4o-6a46gn6Pf"
      },
      "execution_count": 76,
      "outputs": []
    },
    {
      "cell_type": "code",
      "source": [
        "for param in bert_model.parameters():\n",
        "    param.requires_grad = False\n",
        "# Unfreeze last 4 layers instead of just 2\n",
        "for param in bert_model.encoder.layer[-4:].parameters():\n",
        "    param.requires_grad = True"
      ],
      "metadata": {
        "id": "DBrgE-8koH2W"
      },
      "execution_count": 77,
      "outputs": []
    },
    {
      "cell_type": "code",
      "source": [
        "model = MyModel(bert_model).to(device)\n"
      ],
      "metadata": {
        "id": "_YD5mKTZk9zX"
      },
      "execution_count": 78,
      "outputs": []
    },
    {
      "cell_type": "code",
      "source": [
        "pos_weight = torch.tensor([class_weights[1]/class_weights[0]]).to(device)\n",
        "criterion = nn.BCEWithLogitsLoss(pos_weight=pos_weight)\n",
        "optimizer = Adam([\n",
        "    {'params': model.bert.encoder.layer[-2:].parameters(), 'lr': 1e-5},\n",
        "    {'params': [p for n, p in model.named_parameters() if 'bert' not in n], 'lr': LR}\n",
        "], weight_decay=1e-5)"
      ],
      "metadata": {
        "id": "unPN-b9VoQ_v"
      },
      "execution_count": 79,
      "outputs": []
    },
    {
      "cell_type": "code",
      "source": [
        "scheduler = torch.optim.lr_scheduler.ReduceLROnPlateau(\n",
        "    optimizer, mode='min', patience=2, factor=0.5\n",
        ")"
      ],
      "metadata": {
        "id": "mWOLgY02lDgX"
      },
      "execution_count": 80,
      "outputs": []
    },
    {
      "cell_type": "code",
      "source": [
        "best_val_loss = float('inf')\n",
        "patience_counter = 0\n",
        "best_model_state = None"
      ],
      "metadata": {
        "id": "FW34W0dLlGcf"
      },
      "execution_count": 81,
      "outputs": []
    },
    {
      "cell_type": "code",
      "source": [
        "from sklearn.metrics import accuracy_score, classification_report, confusion_matrix, f1_score\n",
        "\n",
        "train_losses, val_losses = [], []\n",
        "train_accuracies, val_accuracies = [], []\n",
        "train_f1_scores, val_f1_scores = [], []\n",
        "\n",
        "def evaluate_model(model, dataloader, criterion, device):\n",
        "    model.eval()\n",
        "    total_loss = 0\n",
        "    all_predictions = []\n",
        "    all_labels = []\n",
        "\n",
        "    with torch.no_grad():\n",
        "        for batch in dataloader:\n",
        "            input_ids = batch['input_ids'].to(device)\n",
        "            attention_mask = batch['attention_mask'].to(device)\n",
        "            labels = batch['label'].to(device)\n",
        "\n",
        "            predictions = model(input_ids, attention_mask)\n",
        "            loss = criterion(predictions, labels)\n",
        "\n",
        "            total_loss += loss.item()\n",
        "\n",
        "            # Collect predictions and labels\n",
        "            pred_probs = torch.sigmoid(predictions)\n",
        "            pred_binary = (pred_probs > 0.5).cpu().numpy()\n",
        "            all_predictions.extend(pred_binary)\n",
        "            all_labels.extend(labels.cpu().numpy())\n",
        "\n",
        "    avg_loss = total_loss / len(dataloader)\n",
        "    accuracy = accuracy_score(all_labels, all_predictions)\n",
        "    f1 = f1_score(all_labels, all_predictions)\n",
        "\n",
        "    return avg_loss, accuracy, f1, all_predictions, all_labels\n",
        "\n",
        "\n",
        "\n"
      ],
      "metadata": {
        "id": "CF6r8p36oXxW"
      },
      "execution_count": 82,
      "outputs": []
    },
    {
      "cell_type": "code",
      "source": [
        "print(\"Starting training...\")\n",
        "for epoch in range(EPOCHS):\n",
        "    # Training phase\n",
        "    model.train()\n",
        "    total_train_loss = 0\n",
        "    train_predictions = []\n",
        "    train_labels = []\n",
        "\n",
        "    for batch in train_dataloader:\n",
        "        input_ids = batch['input_ids'].to(device)\n",
        "        attention_mask = batch['attention_mask'].to(device)\n",
        "        labels = batch['label'].to(device)\n",
        "\n",
        "        # Forward pass\n",
        "        predictions = model(input_ids, attention_mask)\n",
        "        loss = criterion(predictions, labels)\n",
        "\n",
        "        # Backward pass\n",
        "        optimizer.zero_grad()\n",
        "        loss.backward()\n",
        "\n",
        "        # Gradient clipping\n",
        "        torch.nn.utils.clip_grad_norm_(model.parameters(), MAX_GRAD_NORM)\n",
        "\n",
        "        optimizer.step()\n",
        "\n",
        "        total_train_loss += loss.item()\n",
        "\n",
        "        # Collect predictions for metrics\n",
        "        pred_probs = torch.sigmoid(predictions)\n",
        "        pred_binary = (pred_probs > 0.5).cpu().detach().numpy()\n",
        "        train_predictions.extend(pred_binary)\n",
        "        train_labels.extend(labels.cpu().numpy())\n",
        "\n",
        "    # Calculate training metrics\n",
        "    avg_train_loss = total_train_loss / len(train_dataloader)\n",
        "    train_accuracy = accuracy_score(train_labels, train_predictions)\n",
        "    train_f1 = f1_score(train_labels, train_predictions)\n",
        "\n",
        "    # Validation phase\n",
        "    val_loss, val_accuracy, val_f1, _, _ = evaluate_model(model, validation_dataloader, criterion, device)\n",
        "\n",
        "    # Update scheduler\n",
        "    scheduler.step(val_loss)\n",
        "\n",
        "    # Store metrics\n",
        "    train_losses.append(avg_train_loss)\n",
        "    val_losses.append(val_loss)\n",
        "    train_accuracies.append(train_accuracy * 100)\n",
        "    val_accuracies.append(val_accuracy * 100)\n",
        "    train_f1_scores.append(train_f1)\n",
        "    val_f1_scores.append(val_f1)\n",
        "\n",
        "    print(f'Epoch {epoch + 1}/{EPOCHS}:')\n",
        "    print(f'  Train Loss: {avg_train_loss:.4f}, Train Acc: {train_accuracy*100:.2f}%, Train F1: {train_f1:.4f}')\n",
        "    print(f'  Val Loss: {val_loss:.4f}, Val Acc: {val_accuracy*100:.2f}%, Val F1: {val_f1:.4f}')\n",
        "\n",
        "    # Early stopping check\n",
        "    if val_loss < best_val_loss:\n",
        "        best_val_loss = val_loss\n",
        "        patience_counter = 0\n",
        "        best_model_state = model.state_dict().copy()\n",
        "        print(f'  New best validation loss: {best_val_loss:.4f}')\n",
        "    else:\n",
        "        patience_counter += 1\n",
        "        print(f'  No improvement. Patience: {patience_counter}/{PATIENCE}')\n",
        "\n",
        "        if patience_counter >= PATIENCE:\n",
        "            print(f'Early stopping triggered after epoch {epoch + 1}')\n",
        "            break\n",
        "\n",
        "    print(\"=\" * 60)\n",
        "if best_model_state is not None:\n",
        "    model.load_state_dict(best_model_state)\n",
        "    print(\"Loaded best model state for final evaluation.\")\n",
        "\n",
        "# Final test evaluation\n",
        "test_loss, test_accuracy, test_f1, test_predictions, test_labels = evaluate_model(\n",
        "    model, testing_dataloader, criterion, device\n",
        ")\n"
      ],
      "metadata": {
        "colab": {
          "base_uri": "https://localhost:8080/"
        },
        "id": "AV2xIIPvlVE3",
        "outputId": "ca1f0335-1616-4239-b8d2-c161adc00880"
      },
      "execution_count": 83,
      "outputs": [
        {
          "output_type": "stream",
          "name": "stdout",
          "text": [
            "Starting training...\n",
            "Epoch 1/20:\n",
            "  Train Loss: 0.5739, Train Acc: 75.21%, Train F1: 0.7452\n",
            "  Val Loss: 0.3963, Val Acc: 84.70%, Val F1: 0.8245\n",
            "  New best validation loss: 0.3963\n",
            "============================================================\n",
            "Epoch 2/20:\n",
            "  Train Loss: 0.3894, Train Acc: 85.19%, Train F1: 0.8371\n",
            "  Val Loss: 0.3159, Val Acc: 87.72%, Val F1: 0.8593\n",
            "  New best validation loss: 0.3159\n",
            "============================================================\n",
            "Epoch 3/20:\n",
            "  Train Loss: 0.3334, Train Acc: 87.35%, Train F1: 0.8596\n",
            "  Val Loss: 0.2825, Val Acc: 89.14%, Val F1: 0.8780\n",
            "  New best validation loss: 0.2825\n",
            "============================================================\n",
            "Epoch 4/20:\n",
            "  Train Loss: 0.2998, Train Acc: 88.98%, Train F1: 0.8775\n",
            "  Val Loss: 0.2657, Val Acc: 90.39%, Val F1: 0.8897\n",
            "  New best validation loss: 0.2657\n",
            "============================================================\n",
            "Epoch 5/20:\n",
            "  Train Loss: 0.2762, Train Acc: 90.14%, Train F1: 0.8897\n",
            "  Val Loss: 0.2719, Val Acc: 90.81%, Val F1: 0.8924\n",
            "  No improvement. Patience: 1/3\n",
            "============================================================\n",
            "Epoch 6/20:\n",
            "  Train Loss: 0.2505, Train Acc: 90.89%, Train F1: 0.8984\n",
            "  Val Loss: 0.2509, Val Acc: 91.36%, Val F1: 0.9014\n",
            "  New best validation loss: 0.2509\n",
            "============================================================\n",
            "Epoch 7/20:\n",
            "  Train Loss: 0.2340, Train Acc: 91.72%, Train F1: 0.9076\n",
            "  Val Loss: 0.2423, Val Acc: 91.84%, Val F1: 0.9073\n",
            "  New best validation loss: 0.2423\n",
            "============================================================\n",
            "Epoch 8/20:\n",
            "  Train Loss: 0.2131, Train Acc: 92.43%, Train F1: 0.9150\n",
            "  Val Loss: 0.2453, Val Acc: 92.44%, Val F1: 0.9130\n",
            "  No improvement. Patience: 1/3\n",
            "============================================================\n",
            "Epoch 9/20:\n",
            "  Train Loss: 0.2045, Train Acc: 92.70%, Train F1: 0.9183\n",
            "  Val Loss: 0.2512, Val Acc: 92.19%, Val F1: 0.9092\n",
            "  No improvement. Patience: 2/3\n",
            "============================================================\n",
            "Epoch 10/20:\n",
            "  Train Loss: 0.1863, Train Acc: 93.65%, Train F1: 0.9286\n",
            "  Val Loss: 0.2633, Val Acc: 91.79%, Val F1: 0.9054\n",
            "  No improvement. Patience: 3/3\n",
            "Early stopping triggered after epoch 10\n",
            "Loaded best model state for final evaluation.\n"
          ]
        }
      ]
    },
    {
      "cell_type": "code",
      "source": [
        "test_loss, test_accuracy, test_f1, test_predictions, test_labels = evaluate_model(\n",
        "    model, testing_dataloader, criterion, device\n",
        ")"
      ],
      "metadata": {
        "id": "HKGqbDOvlmN3"
      },
      "execution_count": 84,
      "outputs": []
    },
    {
      "cell_type": "code",
      "source": [
        "print(f\"\\nFinal Test Results:\")\n",
        "print(f\"Test Accuracy: {test_accuracy*100:.2f}%\")\n",
        "print(f\"Test F1-Score: {test_f1:.4f}\")\n",
        "print(f\"Test Loss: {test_loss:.4f}\")\n",
        "\n",
        "# Detailed classification report\n",
        "print(\"\\nClassification Report:\")\n",
        "print(classification_report(test_labels, test_predictions,\n",
        "                          target_names=['Non-Sarcastic', 'Sarcastic']))"
      ],
      "metadata": {
        "colab": {
          "base_uri": "https://localhost:8080/"
        },
        "id": "pRk3Gib2lm0f",
        "outputId": "9443ea26-d8ae-4b3b-e357-4dc423e9474f"
      },
      "execution_count": 85,
      "outputs": [
        {
          "output_type": "stream",
          "name": "stdout",
          "text": [
            "\n",
            "Final Test Results:\n",
            "Test Accuracy: 91.29%\n",
            "Test F1-Score: 0.8997\n",
            "Test Loss: 0.2660\n",
            "\n",
            "Classification Report:\n",
            "               precision    recall  f1-score   support\n",
            "\n",
            "Non-Sarcastic       0.92      0.93      0.92      2256\n",
            "    Sarcastic       0.91      0.89      0.90      1751\n",
            "\n",
            "     accuracy                           0.91      4007\n",
            "    macro avg       0.91      0.91      0.91      4007\n",
            " weighted avg       0.91      0.91      0.91      4007\n",
            "\n"
          ]
        }
      ]
    },
    {
      "cell_type": "code",
      "source": [
        "import seaborn as sns\n",
        "\n",
        "cm = confusion_matrix(test_labels, test_predictions)\n",
        "plt.figure(figsize=(8, 6))\n",
        "sns.heatmap(cm, annot=True, fmt='d', cmap='Blues',\n",
        "            xticklabels=['Non-Sarcastic', 'Sarcastic'],\n",
        "            yticklabels=['Non-Sarcastic', 'Sarcastic'])\n",
        "plt.title('Confusion Matrix')\n",
        "plt.ylabel('True Label')\n",
        "plt.xlabel('Predicted Label')\n",
        "plt.show()"
      ],
      "metadata": {
        "colab": {
          "base_uri": "https://localhost:8080/",
          "height": 564
        },
        "id": "m13cINValpPP",
        "outputId": "10e8d6cb-92d3-4376-b3ce-1cb2a032825e"
      },
      "execution_count": 86,
      "outputs": [
        {
          "output_type": "display_data",
          "data": {
            "text/plain": [
              "<Figure size 800x600 with 2 Axes>"
            ],
            "image/png": "[encoded data removed]"
          },
          "metadata": {}
        }
      ]
    },
    {
      "cell_type": "code",
      "source": [
        "fig, axes = plt.subplots(2, 2, figsize=(15, 10))\n",
        "# Loss plots\n",
        "axes[0, 0].plot(train_losses, label='Training Loss', color='blue')\n",
        "axes[0, 0].plot(val_losses, label='Validation Loss', color='red')\n",
        "axes[0, 0].set_title('Training and Validation Loss')\n",
        "axes[0, 0].set_xlabel('Epochs')\n",
        "axes[0, 0].set_ylabel('Loss')\n",
        "axes[0, 0].legend()\n",
        "axes[0, 0].grid(True)\n",
        "\n",
        "# Accuracy plots\n",
        "axes[0, 1].plot(train_accuracies, label='Training Accuracy', color='blue')\n",
        "axes[0, 1].plot(val_accuracies, label='Validation Accuracy', color='red')\n",
        "axes[0, 1].set_title('Training and Validation Accuracy')\n",
        "axes[0, 1].set_xlabel('Epochs')\n",
        "axes[0, 1].set_ylabel('Accuracy (%)')\n",
        "axes[0, 1].legend()\n",
        "axes[0, 1].grid(True)"
      ],
      "metadata": {
        "colab": {
          "base_uri": "https://localhost:8080/",
          "height": 853
        },
        "id": "JPl-eRo-ltnB",
        "outputId": "4fb25d42-9b89-4c1a-e3cd-420612578622"
      },
      "execution_count": 87,
      "outputs": [
        {
          "output_type": "display_data",
          "data": {
            "text/plain": [
              "<Figure size 1500x1000 with 4 Axes>"
            ],
            "image/png": "[encoded data removed]"
          },
          "metadata": {}
        }
      ]
    },
    {
      "cell_type": "code",
      "source": [
        "# F1 Score plots\n",
        "axes[1, 0].plot(train_f1_scores, label='Training F1', color='blue')\n",
        "axes[1, 0].plot(val_f1_scores, label='Validation F1', color='red')\n",
        "axes[1, 0].set_title('Training and Validation F1-Score')\n",
        "axes[1, 0].set_xlabel('Epochs')\n",
        "axes[1, 0].set_ylabel('F1-Score')\n",
        "axes[1, 0].legend()\n",
        "axes[1, 0].grid(True)"
      ],
      "metadata": {
        "id": "JQYWo5PMlxrP"
      },
      "execution_count": 88,
      "outputs": []
    },
    {
      "cell_type": "code",
      "source": [
        "axes[1, 1].bar(['Training', 'Validation', 'Test'],\n",
        "               [train_accuracies[-1], val_accuracies[-1], test_accuracy*100])\n",
        "axes[1, 1].set_title('Final Accuracy Comparison')\n",
        "axes[1, 1].set_ylabel('Accuracy (%)')\n",
        "axes[1, 1].grid(True)\n",
        "\n",
        "plt.tight_layout()\n",
        "plt.show()"
      ],
      "metadata": {
        "colab": {
          "base_uri": "https://localhost:8080/",
          "height": 34
        },
        "id": "viDW7IEGl1IO",
        "outputId": "8c3c7a76-79df-4964-c534-7f8972b84c08"
      },
      "execution_count": 89,
      "outputs": [
        {
          "output_type": "display_data",
          "data": {
            "text/plain": [
              "<Figure size 640x480 with 0 Axes>"
            ]
          },
          "metadata": {}
        }
      ]
    },
    {
      "cell_type": "code",
      "source": [
        "def predict_sarcasm(text, model, tokenizer, device, max_length=96):\n",
        "    model.eval()\n",
        "    encoding = tokenizer(\n",
        "        text,\n",
        "        max_length=max_length,\n",
        "        truncation=True,\n",
        "        padding='max_length',\n",
        "        return_tensors='pt'\n",
        "    )\n",
        "\n",
        "    with torch.no_grad():\n",
        "        input_ids = encoding['input_ids'].to(device)\n",
        "        attention_mask = encoding['attention_mask'].to(device)\n",
        "\n",
        "        logits = model(input_ids, attention_mask)\n",
        "        probability = torch.sigmoid(logits).item()\n",
        "\n",
        "        return probability, \"Sarcastic\" if probability > 0.4 else \"Non-Sarcastic\"\n",
        "\n",
        "# Example predictions\n",
        "sample_texts = [\n",
        "    \"This is the best day ever!\",  # Ambiguous - could be genuine\n",
        "    \"Oh great, another meeting about meetings\",  # Clear sarcasm\n",
        "    \"I love spending my entire weekend working\",  # Clear sarcasm\n",
        "    \"I absolutely love getting stuck in traffic for hours\",  # Clear sarcasm\n",
        "    \"The weather is beautiful today\",  # Likely genuine\n",
        "    \"Perfect, my computer crashed right before the deadline\",  # Clear sarcasm\n",
        "    \"What a fantastic way to start Monday morning\",  # Likely sarcasm\n",
        "    \"Thank you so much for the helpful feedback\"  # Ambiguous context-dependent\n",
        "]\n",
        "\n",
        "print(\"\\nSample Predictions:\")\n",
        "for text in sample_texts:\n",
        "    prob, label = predict_sarcasm(text, model, tokenizer, device)\n",
        "    print(f\"Text: '{text}'\")\n",
        "    print(f\"Prediction: {label} (Probability: {prob:.4f})\")\n",
        "    print(\"-\" * 50)\n",
        "thresholds = [0.3, 0.4, 0.5, 0.6, 0.7]\n",
        "for threshold in thresholds:\n",
        "    predictions_thresh = (torch.tensor([0.0037, 0.8451, 0.0115, 0.0042]) > threshold).int()\n",
        "    print(f\"Threshold {threshold}: {predictions_thresh.tolist()}\")"
      ],
      "metadata": {
        "colab": {
          "base_uri": "https://localhost:8080/"
        },
        "id": "2sttKciql3Cp",
        "outputId": "9303834f-5074-4bc9-84ca-7ca060f31595"
      },
      "execution_count": 91,
      "outputs": [
        {
          "output_type": "stream",
          "name": "stdout",
          "text": [
            "\n",
            "Sample Predictions:\n",
            "Text: 'This is the best day ever!'\n",
            "Prediction: Non-Sarcastic (Probability: 0.0022)\n",
            "--------------------------------------------------\n",
            "Text: 'Oh great, another meeting about meetings'\n",
            "Prediction: Sarcastic (Probability: 0.5105)\n",
            "--------------------------------------------------\n",
            "Text: 'I love spending my entire weekend working'\n",
            "Prediction: Non-Sarcastic (Probability: 0.0044)\n",
            "--------------------------------------------------\n",
            "Text: 'I absolutely love getting stuck in traffic for hours'\n",
            "Prediction: Non-Sarcastic (Probability: 0.0033)\n",
            "--------------------------------------------------\n",
            "Text: 'The weather is beautiful today'\n",
            "Prediction: Non-Sarcastic (Probability: 0.0016)\n",
            "--------------------------------------------------\n",
            "Text: 'Perfect, my computer crashed right before the deadline'\n",
            "Prediction: Non-Sarcastic (Probability: 0.0296)\n",
            "--------------------------------------------------\n",
            "Text: 'What a fantastic way to start Monday morning'\n",
            "Prediction: Non-Sarcastic (Probability: 0.0046)\n",
            "--------------------------------------------------\n",
            "Text: 'Thank you so much for the helpful feedback'\n",
            "Prediction: Non-Sarcastic (Probability: 0.0027)\n",
            "--------------------------------------------------\n",
            "Threshold 0.3: [0, 1, 0, 0]\n",
            "Threshold 0.4: [0, 1, 0, 0]\n",
            "Threshold 0.5: [0, 1, 0, 0]\n",
            "Threshold 0.6: [0, 1, 0, 0]\n",
            "Threshold 0.7: [0, 1, 0, 0]\n"
          ]
        }
      ]
    }
  ]
}